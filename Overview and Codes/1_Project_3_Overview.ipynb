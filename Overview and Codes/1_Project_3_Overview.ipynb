{
 "cells": [
  {
   "cell_type": "markdown",
   "metadata": {},
   "source": [
    "# <font color=green>Project 3: Web APIs & Classification</font>"
   ]
  },
  {
   "cell_type": "markdown",
   "metadata": {},
   "source": [
    "## <font color=green>Problem Statement</font>"
   ]
  },
  {
   "cell_type": "markdown",
   "metadata": {},
   "source": [
    "Interest in **Diet types** has been trending in recent years. It has become increasingly important for **Food Manufacturers and Dieticians** to understand market interests so that they can conduct proper **Market Segmentations** studies.<br>\n",
    "<br>\n",
    "**Reddit** is an American social news aggregation, web content rating, and discussion website with **over 330 million** monthly active users. There is a wealth of diet related discussions to help companies understand what are the key concerns and needs of their potential market.<br>\n",
    "<br>\n",
    "While some subreddits are diet specific (e.g. keto, vegan, paleo etc), there are alot more diet and nutrition subreddits that are not diet specific. Nevertheless, valuable information can still be studied from them. It will be useful to build a **reddit post classifier** that can classify any diet & nutrition post into diet specific classes. Looking ahead, model can also be extended to **chatbots, virtual frontdesk** applications<br>\n",
    "<br>\n",
    "In this project we will first train and build **a model that can classify keto and vegan subreddits post with >90% accuracy.** Logistic Regression, K Nearest Neighbors and Naive Bayes models will be explored and evaluated."
   ]
  },
  {
   "cell_type": "markdown",
   "metadata": {},
   "source": [
    "## <font color=green>Executive Summary</font>"
   ]
  },
  {
   "cell_type": "markdown",
   "metadata": {},
   "source": [
    "The Analytics team is rolling out an intelligent classifier that will accurately recognize and classify reddit posts<br>\n",
    "<br>\n",
    "Such classifiers can used for doing classification in other related sub-reddits and perhaps expanded into chatbots or virtual frontdesk applications<br>\n",
    "<br>\n",
    "Preliminary development focused on 2 diet related ssub-reddits namely vegan and keto.<br>\n",
    "<br>\n",
    "Production Model Results\n",
    "- Accuracy: 0.958\n",
    "- Misclassification Rate: 0.042\n",
    "- Sensitivity (Recall): 0.943\n",
    "- Precision: 0.970\n",
    "- Specificity: 0.973\n",
    "- Combined Type 1 & 2 error rate is < 5%\n",
    "- F1 score > 95%\n",
    "- ROC-AUC score >98%\n",
    "<br>\n",
    "<br>\n",
    "The Analytics team is ready and confident to work on other subreddits to further expand its capabilities (both diet and non-diet related subjects)"
   ]
  },
  {
   "cell_type": "markdown",
   "metadata": {},
   "source": [
    "## <font color=green>Contents:</font>\n",
    "- [Methodlogy](#Methodology)\n",
    "- [reddit data aquisition](./2_Data_Collection.ipynb)\n",
    "- [Data Cleaning and EDA](./3_Data_Cleaning_and_EDA.ipynb)\n",
    "- [Preprocessing and Modelling](./4_Preprocessing_Modelling.ipynb)\n",
    "- [External Research](#External-Research)\n",
    "- [Conclusion and Recommendation](#Conclusion-and-Recommendation)"
   ]
  },
  {
   "cell_type": "markdown",
   "metadata": {},
   "source": [
    "## <font color=green>Methodology</font>"
   ]
  },
  {
   "cell_type": "markdown",
   "metadata": {},
   "source": [
    "![](../images/p3_methods.png)"
   ]
  },
  {
   "cell_type": "markdown",
   "metadata": {},
   "source": [
    "## <font color=green>External Research</font>"
   ]
  },
  {
   "cell_type": "markdown",
   "metadata": {},
   "source": [
    "- **Veganism** is the practice of abstaining from the use of animal products, particularly in diet, and an associated philosophy that rejects the commodity status of animals.\n",
    "- Dietary vegans (also known as \"strict vegetarians\") refrain from consuming meat, eggs, dairy products, and any other animal-derived substances.\n",
    "- https://en.wikipedia.org/wiki/Veganism"
   ]
  },
  {
   "cell_type": "markdown",
   "metadata": {},
   "source": [
    "- The **ketogenic** diet is a high-fat, adequate-protein, low-carbohydrate diet. The diet forces the body to burn fats rather than carbohydrates.\n",
    "- It was originally developed to treat hard-to-control (refractory) epilepsy in children. \n",
    "- Normally carbohydrates in food are converted into glucose, which is then transported around the body and is important in fueling brain function. But if little carbohydrate remains in the diet, the liver converts fat into fatty acids and ketone bodies, the latter passing into the brain and replacing glucose as an energy source. \n",
    "- An elevated level of ketone bodies in the blood (a state called ketosis) eventually lowers the frequency of epileptic seizures.\n",
    "- https://en.wikipedia.org/wiki/Ketogenic_diet\n",
    "- In the 2010s, it became a fad diet for people wanting to lose weight.\n",
    "- https://en.wikipedia.org/wiki/Low-carbohydrate_diet"
   ]
  },
  {
   "cell_type": "markdown",
   "metadata": {},
   "source": [
    "## <font color=green>Conclusion and Recommendation</font>"
   ]
  },
  {
   "cell_type": "markdown",
   "metadata": {},
   "source": [
    "- Our preliminary model development methodology has proven to be effective in delivering a highly accurate and precise classifier\n",
    "- The analytics team is confident that the methodology can be expanded to deliver a more powerful and useful classifier that can be expanded for chatbots and virtual frontdesk applications.\n",
    "- Model can also generate keywords importance which is an important information for product webpage SEO.\n",
    "- Therefore we will like to request $42K budget and fundings for the coming fiscal year."
   ]
  },
  {
   "cell_type": "code",
   "execution_count": null,
   "metadata": {},
   "outputs": [],
   "source": []
  }
 ],
 "metadata": {
  "kernelspec": {
   "display_name": "Python 3",
   "language": "python",
   "name": "python3"
  },
  "language_info": {
   "codemirror_mode": {
    "name": "ipython",
    "version": 3
   },
   "file_extension": ".py",
   "mimetype": "text/x-python",
   "name": "python",
   "nbconvert_exporter": "python",
   "pygments_lexer": "ipython3",
   "version": "3.7.6"
  }
 },
 "nbformat": 4,
 "nbformat_minor": 4
}
