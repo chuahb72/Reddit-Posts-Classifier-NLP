{
 "cells": [
  {
   "cell_type": "markdown",
   "metadata": {},
   "source": [
    "# <font color=green>Import Libraries</font>"
   ]
  },
  {
   "cell_type": "code",
   "execution_count": 1,
   "metadata": {},
   "outputs": [],
   "source": [
    "import requests\n",
    "import pandas as pd\n",
    "import time\n",
    "import random"
   ]
  },
  {
   "cell_type": "code",
   "execution_count": 2,
   "metadata": {},
   "outputs": [],
   "source": [
    "# Train models using posts from these 2 subreddits url\n",
    "vegan_url = 'https://old.reddit.com/r/vegan.json'\n",
    "keto_url = 'https://old.reddit.com/r/keto.json'"
   ]
  },
  {
   "cell_type": "code",
   "execution_count": 3,
   "metadata": {},
   "outputs": [],
   "source": [
    "# create function to collect data with required input of\n",
    "# subreddit url, number of collection iterations, output file\n",
    "# and path to save to\n",
    "\n",
    "def fetch_data (url, cnt, file_name):\n",
    "    '''\n",
    "    url: str \"subreddits url\"\n",
    "    cnt: int number of extracr requests, max of 20\n",
    "    filename: str output .csv filename\n",
    "    '''        \n",
    "    posts = []\n",
    "    after = None\n",
    "\n",
    "    for a in range(cnt):\n",
    "        if cnt > 30:\n",
    "            print('cnt exceed maximun of 30')\n",
    "            break\n",
    "        if after == None:\n",
    "            current_url = url\n",
    "        else:\n",
    "            current_url = url + '?after=' + after\n",
    "        print(current_url)\n",
    "        res = requests.get(current_url, headers={'User-agent': 'Pony Inc 1.0'})\n",
    "    \n",
    "        if res.status_code != 200:\n",
    "            print('Status error', res.status_code)\n",
    "            break\n",
    "    \n",
    "        current_dict = res.json()\n",
    "        current_posts = [p['data'] for p in current_dict['data']['children']]\n",
    "        posts.extend(current_posts)\n",
    "        after = current_dict['data']['after']\n",
    "    \n",
    "        if a > 0:\n",
    "            prev_posts = pd.read_csv('../Data/'+file_name+'.csv')\n",
    "            current_df = pd.DataFrame(posts)\n",
    "            all_post = pd.concat([prev_posts, current_df], axis=0)\n",
    "            all_post.to_csv('../Data/'+file_name+'.csv', index = False)\n",
    "        \n",
    "        else:\n",
    "            pd.DataFrame(posts).to_csv('../Data/'+file_name+'.csv', index = False)\n",
    "\n",
    "        # generate a random sleep duration to look more 'natural'\n",
    "        sleep_duration = random.randint(2,15)\n",
    "        print(sleep_duration)\n",
    "        time.sleep(sleep_duration)"
   ]
  },
  {
   "cell_type": "code",
   "execution_count": 4,
   "metadata": {
    "scrolled": true
   },
   "outputs": [
    {
     "name": "stdout",
     "output_type": "stream",
     "text": [
      "https://old.reddit.com/r/vegan.json\n",
      "10\n",
      "https://old.reddit.com/r/vegan.json?after=t3_hfev82\n",
      "15\n",
      "https://old.reddit.com/r/vegan.json?after=t3_hffmt3\n",
      "4\n",
      "https://old.reddit.com/r/vegan.json?after=t3_hf8tf7\n",
      "10\n",
      "https://old.reddit.com/r/vegan.json?after=t3_hf9k7m\n",
      "15\n",
      "https://old.reddit.com/r/vegan.json?after=t3_heyilo\n",
      "3\n",
      "https://old.reddit.com/r/vegan.json?after=t3_hejwu9\n",
      "4\n",
      "https://old.reddit.com/r/vegan.json?after=t3_hetwtb\n",
      "3\n",
      "https://old.reddit.com/r/vegan.json?after=t3_hehoeu\n",
      "4\n",
      "https://old.reddit.com/r/vegan.json?after=t3_hefzgi\n",
      "5\n",
      "https://old.reddit.com/r/vegan.json?after=t3_heewwk\n",
      "6\n",
      "https://old.reddit.com/r/vegan.json?after=t3_hefuxc\n",
      "6\n",
      "https://old.reddit.com/r/vegan.json?after=t3_he7nxu\n",
      "5\n",
      "https://old.reddit.com/r/vegan.json?after=t3_hdt8ap\n",
      "11\n",
      "https://old.reddit.com/r/vegan.json?after=t3_he53ce\n",
      "12\n",
      "https://old.reddit.com/r/vegan.json?after=t3_hdrq45\n",
      "6\n",
      "https://old.reddit.com/r/vegan.json?after=t3_hdbos6\n",
      "7\n",
      "https://old.reddit.com/r/vegan.json?after=t3_he2o9h\n",
      "4\n",
      "https://old.reddit.com/r/vegan.json?after=t3_hdtx93\n",
      "10\n",
      "https://old.reddit.com/r/vegan.json?after=t3_hdt9u9\n",
      "15\n",
      "https://old.reddit.com/r/vegan.json?after=t3_hdfqkq\n",
      "2\n",
      "https://old.reddit.com/r/vegan.json?after=t3_hd2py5\n",
      "7\n",
      "https://old.reddit.com/r/vegan.json?after=t3_hd6zba\n",
      "15\n",
      "https://old.reddit.com/r/vegan.json?after=t3_hcwt4j\n",
      "6\n",
      "https://old.reddit.com/r/vegan.json?after=t3_hctlv4\n",
      "9\n",
      "https://old.reddit.com/r/vegan.json?after=t3_hcqzim\n",
      "3\n",
      "https://old.reddit.com/r/vegan.json?after=t3_hcw4l9\n"
     ]
    },
    {
     "name": "stderr",
     "output_type": "stream",
     "text": [
      "/Users/chuahb/opt/anaconda3/lib/python3.7/site-packages/IPython/core/interactiveshell.py:3254: DtypeWarning: Columns (80) have mixed types.Specify dtype option on import or set low_memory=False.\n",
      "  if (await self.run_code(code, result,  async_=asy)):\n"
     ]
    },
    {
     "name": "stdout",
     "output_type": "stream",
     "text": [
      "2\n",
      "https://old.reddit.com/r/vegan.json?after=t3_hcst2c\n",
      "4\n",
      "https://old.reddit.com/r/vegan.json?after=t3_hc37l7\n",
      "9\n",
      "https://old.reddit.com/r/vegan.json?after=t3_hccn9h\n",
      "6\n"
     ]
    }
   ],
   "source": [
    "# Extract from vegan subreddit\n",
    "fetch_data(vegan_url, 30, 'vegan')"
   ]
  },
  {
   "cell_type": "code",
   "execution_count": 5,
   "metadata": {},
   "outputs": [
    {
     "name": "stdout",
     "output_type": "stream",
     "text": [
      "https://old.reddit.com/r/keto.json\n",
      "14\n",
      "https://old.reddit.com/r/keto.json?after=t3_hfj41z\n",
      "6\n",
      "https://old.reddit.com/r/keto.json?after=t3_hfay7p\n",
      "7\n",
      "https://old.reddit.com/r/keto.json?after=t3_hexkye\n",
      "9\n",
      "https://old.reddit.com/r/keto.json?after=t3_heu5h9\n",
      "7\n",
      "https://old.reddit.com/r/keto.json?after=t3_hei008\n",
      "8\n",
      "https://old.reddit.com/r/keto.json?after=t3_heec5x\n",
      "9\n",
      "https://old.reddit.com/r/keto.json?after=t3_hdsf61\n",
      "2\n",
      "https://old.reddit.com/r/keto.json?after=t3_hdjybz\n",
      "7\n",
      "https://old.reddit.com/r/keto.json?after=t3_hdmv4q\n",
      "8\n",
      "https://old.reddit.com/r/keto.json?after=t3_hddjrt\n",
      "11\n",
      "https://old.reddit.com/r/keto.json?after=t3_hd53j7\n",
      "2\n",
      "https://old.reddit.com/r/keto.json?after=t3_hcvxr9\n",
      "3\n",
      "https://old.reddit.com/r/keto.json?after=t3_hckx45\n",
      "11\n",
      "https://old.reddit.com/r/keto.json?after=t3_hc6ven\n",
      "7\n",
      "https://old.reddit.com/r/keto.json?after=t3_hbiivq\n",
      "11\n",
      "https://old.reddit.com/r/keto.json?after=t3_hb6r9k\n",
      "10\n",
      "https://old.reddit.com/r/keto.json?after=t3_hasr45\n",
      "14\n",
      "https://old.reddit.com/r/keto.json?after=t3_hbfwf7\n",
      "13\n",
      "https://old.reddit.com/r/keto.json?after=t3_hat3v6\n",
      "14\n",
      "https://old.reddit.com/r/keto.json?after=t3_hao7ju\n",
      "14\n",
      "https://old.reddit.com/r/keto.json?after=t3_haf73g\n",
      "6\n",
      "https://old.reddit.com/r/keto.json?after=t3_ha5eyu\n",
      "9\n",
      "https://old.reddit.com/r/keto.json?after=t3_h9y2ab\n",
      "13\n",
      "https://old.reddit.com/r/keto.json?after=t3_h9vjcg\n",
      "12\n",
      "https://old.reddit.com/r/keto.json?after=t3_h9d71j\n",
      "13\n",
      "https://old.reddit.com/r/keto.json?after=t3_h98bmz\n",
      "9\n",
      "https://old.reddit.com/r/keto.json?after=t3_h8vnix\n",
      "12\n",
      "https://old.reddit.com/r/keto.json\n",
      "12\n",
      "https://old.reddit.com/r/keto.json?after=t3_hfj41z\n",
      "8\n"
     ]
    }
   ],
   "source": [
    "# Extract from keto subreddit\n",
    "fetch_data (keto_url, 30, 'keto')"
   ]
  },
  {
   "cell_type": "code",
   "execution_count": null,
   "metadata": {},
   "outputs": [],
   "source": []
  }
 ],
 "metadata": {
  "kernelspec": {
   "display_name": "Python 3",
   "language": "python",
   "name": "python3"
  },
  "language_info": {
   "codemirror_mode": {
    "name": "ipython",
    "version": 3
   },
   "file_extension": ".py",
   "mimetype": "text/x-python",
   "name": "python",
   "nbconvert_exporter": "python",
   "pygments_lexer": "ipython3",
   "version": "3.7.6"
  }
 },
 "nbformat": 4,
 "nbformat_minor": 4
}
