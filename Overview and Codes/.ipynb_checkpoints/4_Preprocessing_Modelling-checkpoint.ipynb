{
 "cells": [
  {
   "cell_type": "markdown",
   "metadata": {},
   "source": [
    "# <font color=green>Import Libraries</font>"
   ]
  },
  {
   "cell_type": "code",
   "execution_count": 1,
   "metadata": {},
   "outputs": [
    {
     "name": "stderr",
     "output_type": "stream",
     "text": [
      "/Users/chuahb/opt/anaconda3/lib/python3.7/site-packages/sklearn/utils/deprecation.py:144: FutureWarning: The sklearn.feature_extraction.stop_words module is  deprecated in version 0.22 and will be removed in version 0.24. The corresponding classes / functions should instead be imported from sklearn.feature_extraction.text. Anything that cannot be imported from sklearn.feature_extraction.text is now part of the private API.\n",
      "  warnings.warn(message, FutureWarning)\n"
     ]
    }
   ],
   "source": [
    "import pandas as pd\n",
    "import numpy as np\n",
    "from sklearn.model_selection import train_test_split, cross_val_score\n",
    "from nltk.stem import WordNetLemmatizer\n",
    "from nltk.stem.porter import PorterStemmer\n",
    "from bs4 import BeautifulSoup\n",
    "import regex as re\n",
    "from sklearn.feature_extraction import stop_words\n",
    "from sklearn.feature_extraction.text import CountVectorizer, TfidfVectorizer\n",
    "from sklearn.naive_bayes import MultinomialNB\n",
    "from sklearn.metrics import confusion_matrix\n",
    "from sklearn.metrics import classification_report\n",
    "from sklearn.metrics import roc_auc_score\n",
    "from sklearn.neighbors import KNeighborsClassifier\n",
    "from sklearn.linear_model import LogisticRegression\n",
    "from sklearn.model_selection import RandomizedSearchCV\n",
    "from sklearn.pipeline import Pipeline\n",
    "import matplotlib.pyplot as plt\n",
    "import seaborn as sns\n",
    "sns.set_style('whitegrid')\n",
    "%matplotlib inline"
   ]
  },
  {
   "cell_type": "markdown",
   "metadata": {},
   "source": [
    "# <font color=green>Read combined vegan & keto subreddits posts</font>"
   ]
  },
  {
   "cell_type": "code",
   "execution_count": 2,
   "metadata": {},
   "outputs": [],
   "source": [
    "vegan_keto = pd.read_csv('../Data/vegan_keto.csv')"
   ]
  },
  {
   "cell_type": "code",
   "execution_count": 3,
   "metadata": {},
   "outputs": [
    {
     "data": {
      "text/plain": [
       "0"
      ]
     },
     "execution_count": 3,
     "metadata": {},
     "output_type": "execute_result"
    }
   ],
   "source": [
    "vegan_keto['title_selftext'].isnull().sum()"
   ]
  },
  {
   "cell_type": "code",
   "execution_count": 4,
   "metadata": {},
   "outputs": [
    {
     "data": {
      "text/plain": [
       "0"
      ]
     },
     "execution_count": 4,
     "metadata": {},
     "output_type": "execute_result"
    }
   ],
   "source": [
    "vegan_keto['subreddit_tgt'].isnull().sum()"
   ]
  },
  {
   "cell_type": "code",
   "execution_count": 5,
   "metadata": {},
   "outputs": [
    {
     "data": {
      "text/plain": [
       "0    750\n",
       "1    694\n",
       "Name: subreddit_tgt, dtype: int64"
      ]
     },
     "execution_count": 5,
     "metadata": {},
     "output_type": "execute_result"
    }
   ],
   "source": [
    "vegan_keto['subreddit_tgt'].value_counts()"
   ]
  },
  {
   "cell_type": "code",
   "execution_count": 6,
   "metadata": {},
   "outputs": [
    {
     "data": {
      "text/plain": [
       "0    0.519391\n",
       "1    0.480609\n",
       "Name: subreddit_tgt, dtype: float64"
      ]
     },
     "execution_count": 6,
     "metadata": {},
     "output_type": "execute_result"
    }
   ],
   "source": [
    "vegan_keto['subreddit_tgt'].value_counts(normalize=True)"
   ]
  },
  {
   "cell_type": "markdown",
   "metadata": {},
   "source": [
    "## <font color=red>This is an almost balanced dataset</font>"
   ]
  },
  {
   "cell_type": "markdown",
   "metadata": {},
   "source": [
    "# <font color=green>Generate Train and Test Split datasets</font>"
   ]
  },
  {
   "cell_type": "code",
   "execution_count": 7,
   "metadata": {},
   "outputs": [],
   "source": [
    "X = vegan_keto[['title_selftext']]\n",
    "y = vegan_keto['subreddit_tgt']"
   ]
  },
  {
   "cell_type": "code",
   "execution_count": 8,
   "metadata": {},
   "outputs": [],
   "source": [
    "X_train, X_test, y_train, y_test = train_test_split(X,\n",
    "                                                    y,\n",
    "                                                    test_size=0.25,\n",
    "                                                    stratify=y)"
   ]
  },
  {
   "cell_type": "code",
   "execution_count": 9,
   "metadata": {},
   "outputs": [
    {
     "name": "stdout",
     "output_type": "stream",
     "text": [
      "X_train_posts: 1083\n",
      "X_test_posts: 361\n",
      "X_posts: 1444\n"
     ]
    }
   ],
   "source": [
    "X_train_posts = [post for post in X_train['title_selftext']]\n",
    "X_test_posts = [post for post in X_test['title_selftext']]\n",
    "X_posts = [post for post in X['title_selftext']]\n",
    "\n",
    "print(f\"X_train_posts: {len(X_train_posts)}\")\n",
    "print(f\"X_test_posts: {len(X_test_posts)}\")\n",
    "print(f\"X_posts: {len(X_posts)}\")"
   ]
  },
  {
   "cell_type": "markdown",
   "metadata": {},
   "source": [
    "# <font color=green>Manual Preprocessing</font>"
   ]
  },
  {
   "cell_type": "markdown",
   "metadata": {},
   "source": [
    "#### <font color=green>Although CountVectorizer and TfidfVectorizer have built-in preprocessing features, we will also manually prepreocess our data for comparison</font>"
   ]
  },
  {
   "cell_type": "code",
   "execution_count": 10,
   "metadata": {},
   "outputs": [],
   "source": [
    "# Instantiate lemmatizer.\n",
    "lemmatizer = WordNetLemmatizer()\n",
    "\n",
    "# Instantiate PorterStemmer.\n",
    "p_stemmer = PorterStemmer()"
   ]
  },
  {
   "cell_type": "code",
   "execution_count": 11,
   "metadata": {},
   "outputs": [],
   "source": [
    "# Custom function for preprocessing\n",
    "\n",
    "def post_to_words(raw_post):\n",
    "    # Function to convert a raw post to a string of words\n",
    "    # The input is a single string (a raw subreddit post), and \n",
    "    # the output is a single string (a preprocessed post)\n",
    "    \n",
    "    # 1. Remove HTML.\n",
    "    post_text = BeautifulSoup(raw_post).get_text()\n",
    "    \n",
    "    # 2. Remove non-letters.\n",
    "    letters_only = re.sub(\"[^a-zA-Z]\", \" \", post_text)\n",
    "    \n",
    "    # 3. Convert to lower case, split into individual words.\n",
    "    words = letters_only.lower().split()\n",
    "    \n",
    "    # 4. In Python, searching a set is much faster than searching\n",
    "    # a list, so convert the stop words to a set.\n",
    "    stops = set(stop_words.ENGLISH_STOP_WORDS)\n",
    "    \n",
    "    # 5. Remove stop words.\n",
    "    meaningful_words = [w for w in words if not w in stops]\n",
    "    meaningful_words = [lemmatizer.lemmatize(w) for w in words]\n",
    "    meaningful_words = [p_stemmer.stem(w) for w in words]\n",
    "    \n",
    "    # 6. Join the words back into one string separated by space, \n",
    "    # and return the result.\n",
    "    return(\" \".join(meaningful_words))"
   ]
  },
  {
   "cell_type": "code",
   "execution_count": 12,
   "metadata": {},
   "outputs": [
    {
     "name": "stdout",
     "output_type": "stream",
     "text": [
      "There are 1083 post.\n"
     ]
    }
   ],
   "source": [
    "# Get the number of post based on the dataframe size.\n",
    "train_posts = X_train.shape[0]\n",
    "print(f'There are {train_posts} post.')\n",
    "\n",
    "# Initialize an empty list to hold the cleaned posts.\n",
    "X_train_posts_manpp = []"
   ]
  },
  {
   "cell_type": "code",
   "execution_count": 13,
   "metadata": {},
   "outputs": [
    {
     "name": "stdout",
     "output_type": "stream",
     "text": [
      "There are 361 post.\n"
     ]
    }
   ],
   "source": [
    "# Get the number of post based on the dataframe size.\n",
    "test_posts = X_test.shape[0]\n",
    "print(f'There are {test_posts} post.')\n",
    "\n",
    "# Initialize an empty list to hold the cleaned posts.\n",
    "X_test_posts_manpp = []"
   ]
  },
  {
   "cell_type": "code",
   "execution_count": 14,
   "metadata": {},
   "outputs": [
    {
     "name": "stdout",
     "output_type": "stream",
     "text": [
      "There are 1444 post.\n"
     ]
    }
   ],
   "source": [
    "# Get the number of post based on the dataframe size.\n",
    "all_posts = X.shape[0]\n",
    "print(f'There are {all_posts} post.')\n",
    "\n",
    "# Initialize an empty list to hold the cleaned posts.\n",
    "X_posts_manpp = []"
   ]
  },
  {
   "cell_type": "code",
   "execution_count": 15,
   "metadata": {},
   "outputs": [
    {
     "name": "stdout",
     "output_type": "stream",
     "text": [
      "Cleaning and parsing the vegan & keto posts...\n",
      "Review 100 of 1083.\n",
      "Review 200 of 1083.\n",
      "Review 300 of 1083.\n",
      "Review 400 of 1083.\n",
      "Review 500 of 1083.\n",
      "Review 600 of 1083.\n",
      "Review 700 of 1083.\n",
      "Review 800 of 1083.\n",
      "Review 900 of 1083.\n",
      "Review 1000 of 1083.\n"
     ]
    }
   ],
   "source": [
    "print(\"Cleaning and parsing the vegan & keto posts...\")\n",
    "\n",
    "j = 0\n",
    "for post in X_train['title_selftext']:\n",
    "    # Convert post to words, then append to clean_vegan_keto_post.\n",
    "    X_train_posts_manpp.append(post_to_words(post))\n",
    "    \n",
    "    # If the index is divisible by 100, print a message\n",
    "    if (j + 1) % 100 == 0:\n",
    "        print(f'Review {j + 1} of {train_posts}.')\n",
    "    \n",
    "    j += 1"
   ]
  },
  {
   "cell_type": "code",
   "execution_count": 16,
   "metadata": {},
   "outputs": [
    {
     "name": "stdout",
     "output_type": "stream",
     "text": [
      "Cleaning and parsing the vegan & keto posts...\n",
      "Review 100 of 361.\n",
      "Review 200 of 361.\n",
      "Review 300 of 361.\n"
     ]
    }
   ],
   "source": [
    "print(\"Cleaning and parsing the vegan & keto posts...\")\n",
    "\n",
    "j = 0\n",
    "for post in X_test['title_selftext']:\n",
    "    # Convert post to words, then append to clean_vegan_keto_post.\n",
    "    X_test_posts_manpp.append(post_to_words(post))\n",
    "    \n",
    "    # If the index is divisible by 100, print a message\n",
    "    if (j + 1) % 100 == 0:\n",
    "        print(f'Review {j + 1} of {test_posts}.')\n",
    "    \n",
    "    j += 1"
   ]
  },
  {
   "cell_type": "code",
   "execution_count": 17,
   "metadata": {},
   "outputs": [
    {
     "name": "stdout",
     "output_type": "stream",
     "text": [
      "Cleaning and parsing the vegan & keto posts...\n",
      "Review 100 of 1444.\n",
      "Review 200 of 1444.\n",
      "Review 300 of 1444.\n",
      "Review 400 of 1444.\n",
      "Review 500 of 1444.\n",
      "Review 600 of 1444.\n",
      "Review 700 of 1444.\n",
      "Review 800 of 1444.\n",
      "Review 900 of 1444.\n",
      "Review 1000 of 1444.\n",
      "Review 1100 of 1444.\n",
      "Review 1200 of 1444.\n",
      "Review 1300 of 1444.\n",
      "Review 1400 of 1444.\n"
     ]
    }
   ],
   "source": [
    "print(\"Cleaning and parsing the vegan & keto posts...\")\n",
    "\n",
    "j = 0\n",
    "for post in X['title_selftext']:\n",
    "    # Convert post to words, then append to clean_vegan_keto_post.\n",
    "    X_posts_manpp.append(post_to_words(post))\n",
    "    \n",
    "    # If the index is divisible by 100, print a message\n",
    "    if (j + 1) % 100 == 0:\n",
    "        print(f'Review {j + 1} of {all_posts}.')\n",
    "    \n",
    "    j += 1"
   ]
  },
  {
   "cell_type": "code",
   "execution_count": 67,
   "metadata": {},
   "outputs": [
    {
     "name": "stdout",
     "output_type": "stream",
     "text": [
      "X_train_posts_manpp: 1083\n",
      "X_test_posts_manpp: 361\n",
      "X_posts_manpp: 1444\n"
     ]
    }
   ],
   "source": [
    "print(f\"X_train_posts_manpp: {len(X_train_posts_manpp)}\")\n",
    "print(f\"X_test_posts_manpp: {len(X_test_posts_manpp)}\")\n",
    "print(f\"X_posts_manpp: {len(X_posts_manpp)}\")"
   ]
  },
  {
   "cell_type": "markdown",
   "metadata": {},
   "source": [
    "# <font color=green>Naive Bayes</font>"
   ]
  },
  {
   "cell_type": "markdown",
   "metadata": {},
   "source": [
    "## <font color=green>cvec + manual preprocessed set</font>"
   ]
  },
  {
   "cell_type": "code",
   "execution_count": 19,
   "metadata": {
    "scrolled": true
   },
   "outputs": [
    {
     "name": "stdout",
     "output_type": "stream",
     "text": [
      "Fitting 5 folds for each of 50 candidates, totalling 250 fits\n"
     ]
    },
    {
     "name": "stderr",
     "output_type": "stream",
     "text": [
      "[Parallel(n_jobs=-1)]: Using backend LokyBackend with 8 concurrent workers.\n",
      "[Parallel(n_jobs=-1)]: Done  34 tasks      | elapsed:    4.6s\n",
      "[Parallel(n_jobs=-1)]: Done 184 tasks      | elapsed:   17.9s\n",
      "[Parallel(n_jobs=-1)]: Done 250 out of 250 | elapsed:   23.2s finished\n"
     ]
    },
    {
     "name": "stdout",
     "output_type": "stream",
     "text": [
      "Best parameters: {'transformer__ngram_range': (1, 2), 'transformer__min_df': 2, 'transformer__max_features': 6133, 'transformer__max_df': 0.68, 'estimator__fit_prior': True, 'estimator__alpha': 1.0}\n",
      "\n",
      "Train Score: 0.937220515446322\n",
      "Test Score: 0.925207756232687\n"
     ]
    }
   ],
   "source": [
    "nb_cvec_manpp_estimator = RandomizedSearchCV(\n",
    "    Pipeline((\n",
    "        (\"transformer\", CountVectorizer()),\n",
    "        (\"estimator\", MultinomialNB())\n",
    "    )),\n",
    "    {\n",
    "        \"transformer__max_features\": np.arange(1_000, 10_000),\n",
    "        \"transformer__min_df\": np.arange(1, 3),\n",
    "        \"transformer__max_df\": np.linspace(0, 1, endpoint=False),\n",
    "        \"transformer__ngram_range\": [(1, 1), (1, 2), (1, 3)],\n",
    "        \"estimator__alpha\" : [0.0, 1.0],\n",
    "        \"estimator__fit_prior\" : [True, False]\n",
    "\n",
    "    },\n",
    "    n_iter=50,\n",
    "    cv=5,\n",
    "    n_jobs=-1,\n",
    "    verbose=1\n",
    ").fit(X_train_posts_manpp, y_train)\n",
    "print(f\"Best parameters: {nb_cvec_manpp_estimator.best_params_}\")\n",
    "print(\"\")\n",
    "print(f\"Train Score: {nb_cvec_manpp_estimator.best_score_}\")\n",
    "print(f\"Test Score: {nb_cvec_manpp_estimator.score(X_test_posts_manpp, y_test)}\")"
   ]
  },
  {
   "cell_type": "markdown",
   "metadata": {},
   "source": [
    "## <font color=green>tvec + manual preprocessed set</font>"
   ]
  },
  {
   "cell_type": "code",
   "execution_count": 20,
   "metadata": {
    "scrolled": true
   },
   "outputs": [
    {
     "name": "stdout",
     "output_type": "stream",
     "text": [
      "Fitting 5 folds for each of 50 candidates, totalling 250 fits\n"
     ]
    },
    {
     "name": "stderr",
     "output_type": "stream",
     "text": [
      "[Parallel(n_jobs=-1)]: Using backend LokyBackend with 8 concurrent workers.\n",
      "[Parallel(n_jobs=-1)]: Done  34 tasks      | elapsed:    3.5s\n",
      "[Parallel(n_jobs=-1)]: Done 184 tasks      | elapsed:   19.2s\n",
      "[Parallel(n_jobs=-1)]: Done 250 out of 250 | elapsed:   25.2s finished\n"
     ]
    },
    {
     "name": "stdout",
     "output_type": "stream",
     "text": [
      "Best parameters: {'transformer__ngram_range': (1, 2), 'transformer__min_df': 2, 'transformer__max_features': 1008, 'transformer__max_df': 0.86, 'estimator__fit_prior': False, 'estimator__alpha': 0.0}\n",
      "\n",
      "Train Score: 0.9224355692097628\n",
      "Test Score: 0.9196675900277008\n"
     ]
    },
    {
     "name": "stderr",
     "output_type": "stream",
     "text": [
      "/Users/chuahb/opt/anaconda3/lib/python3.7/site-packages/sklearn/naive_bayes.py:507: UserWarning: alpha too small will result in numeric errors, setting alpha = 1.0e-10\n",
      "  'setting alpha = %.1e' % _ALPHA_MIN)\n"
     ]
    }
   ],
   "source": [
    "nb_tvec_manpp_estimator = RandomizedSearchCV(\n",
    "    Pipeline((\n",
    "        (\"transformer\", TfidfVectorizer()),\n",
    "        (\"estimator\", MultinomialNB())\n",
    "    )),\n",
    "    {\n",
    "        \"transformer__max_features\": np.arange(1_000, 10_000),\n",
    "        \"transformer__min_df\": np.arange(1, 3),\n",
    "        \"transformer__max_df\": np.linspace(0, 1, endpoint=False),\n",
    "        \"transformer__ngram_range\": [(1, 1), (1, 2), (1, 3)],\n",
    "        \"estimator__alpha\" : [0.0, 1.0],\n",
    "        \"estimator__fit_prior\" : [True, False]\n",
    "\n",
    "    },\n",
    "    n_iter=50,\n",
    "    cv=5,\n",
    "    n_jobs=-1,\n",
    "    verbose=1\n",
    ").fit(X_train_posts_manpp, y_train)\n",
    "print(f\"Best parameters: {nb_tvec_manpp_estimator.best_params_}\")\n",
    "print(\"\")\n",
    "print(f\"Train Score: {nb_tvec_manpp_estimator.best_score_}\")\n",
    "print(f\"Test Score: {nb_tvec_manpp_estimator.score(X_test_posts_manpp, y_test)}\")"
   ]
  },
  {
   "cell_type": "markdown",
   "metadata": {},
   "source": [
    "## <font color=green>cvec + built-in preprocess</font>"
   ]
  },
  {
   "cell_type": "code",
   "execution_count": 21,
   "metadata": {},
   "outputs": [
    {
     "name": "stdout",
     "output_type": "stream",
     "text": [
      "Fitting 5 folds for each of 50 candidates, totalling 250 fits\n"
     ]
    },
    {
     "name": "stderr",
     "output_type": "stream",
     "text": [
      "[Parallel(n_jobs=-1)]: Using backend LokyBackend with 8 concurrent workers.\n",
      "[Parallel(n_jobs=-1)]: Done  34 tasks      | elapsed:    3.3s\n",
      "[Parallel(n_jobs=-1)]: Done 184 tasks      | elapsed:   18.6s\n",
      "[Parallel(n_jobs=-1)]: Done 250 out of 250 | elapsed:   25.6s finished\n"
     ]
    },
    {
     "name": "stdout",
     "output_type": "stream",
     "text": [
      "Best parameters: {'transformer__ngram_range': (1, 2), 'transformer__min_df': 2, 'transformer__max_features': 1865, 'transformer__max_df': 0.64, 'estimator__fit_prior': False, 'estimator__alpha': 1.0}\n",
      "\n",
      "Train Score: 0.938146441372248\n",
      "Test Score: 0.925207756232687\n"
     ]
    }
   ],
   "source": [
    "nb_cvec_estimator = RandomizedSearchCV(\n",
    "    Pipeline((\n",
    "        (\"transformer\", CountVectorizer(stop_words=\"english\")),\n",
    "        (\"estimator\", MultinomialNB())\n",
    "    )),\n",
    "    {\n",
    "        \"transformer__max_features\": np.arange(1_000, 10_000),\n",
    "        \"transformer__min_df\": np.arange(1, 3),\n",
    "        \"transformer__max_df\": np.linspace(0, 1, endpoint=False),\n",
    "        \"transformer__ngram_range\": [(1, 1), (1, 2), (1, 3)],\n",
    "        \"estimator__alpha\" : [0.0, 1.0],\n",
    "        \"estimator__fit_prior\" : [True, False]\n",
    "\n",
    "    },\n",
    "    n_iter=50,\n",
    "    cv=5,\n",
    "    n_jobs=-1,\n",
    "    verbose=1\n",
    ").fit(X_train_posts, y_train)\n",
    "print(f\"Best parameters: {nb_cvec_estimator.best_params_}\")\n",
    "print(\"\")\n",
    "print(f\"Train Score: {nb_cvec_estimator.best_score_}\")\n",
    "print(f\"Test Score: {nb_cvec_estimator.score(X_test_posts, y_test)}\")"
   ]
  },
  {
   "cell_type": "markdown",
   "metadata": {},
   "source": [
    "## <font color=green>tvec + built-in preprocess</font>"
   ]
  },
  {
   "cell_type": "code",
   "execution_count": 22,
   "metadata": {
    "scrolled": false
   },
   "outputs": [
    {
     "name": "stdout",
     "output_type": "stream",
     "text": [
      "Fitting 5 folds for each of 50 candidates, totalling 250 fits\n"
     ]
    },
    {
     "name": "stderr",
     "output_type": "stream",
     "text": [
      "[Parallel(n_jobs=-1)]: Using backend LokyBackend with 8 concurrent workers.\n",
      "[Parallel(n_jobs=-1)]: Done  34 tasks      | elapsed:    4.5s\n",
      "[Parallel(n_jobs=-1)]: Done 184 tasks      | elapsed:   20.5s\n",
      "[Parallel(n_jobs=-1)]: Done 250 out of 250 | elapsed:   27.4s finished\n"
     ]
    },
    {
     "name": "stdout",
     "output_type": "stream",
     "text": [
      "Best parameters: {'transformer__ngram_range': (1, 2), 'transformer__min_df': 2, 'transformer__max_features': 3364, 'transformer__max_df': 0.8200000000000001, 'estimator__fit_prior': True, 'estimator__alpha': 1.0}\n",
      "\n",
      "Train Score: 0.9252090800477898\n",
      "Test Score: 0.9224376731301939\n"
     ]
    }
   ],
   "source": [
    "nb_tvec_estimator = RandomizedSearchCV(\n",
    "    Pipeline((\n",
    "        (\"transformer\", TfidfVectorizer(stop_words=\"english\")),\n",
    "        (\"estimator\", MultinomialNB())\n",
    "    )),\n",
    "    {\n",
    "        \"transformer__max_features\": np.arange(1_000, 10_000),\n",
    "        \"transformer__min_df\": np.arange(1, 3),\n",
    "        \"transformer__max_df\": np.linspace(0, 1, endpoint=False),\n",
    "        \"transformer__ngram_range\": [(1, 1), (1, 2), (1, 3)],\n",
    "        \"estimator__alpha\" : [0.0, 1.0],\n",
    "        \"estimator__fit_prior\" : [True, False]\n",
    "\n",
    "    },\n",
    "    n_iter=50,\n",
    "    cv=5,\n",
    "    n_jobs=-1,\n",
    "    verbose=1\n",
    ").fit(X_train_posts, y_train)\n",
    "print(f\"Best parameters: {nb_tvec_estimator.best_params_}\")\n",
    "print(\"\")\n",
    "print(f\"Train Score: {nb_tvec_estimator.best_score_}\")\n",
    "print(f\"Test Score: {nb_tvec_estimator.score(X_test_posts, y_test)}\")"
   ]
  },
  {
   "cell_type": "markdown",
   "metadata": {},
   "source": [
    "# <font color=green>K Nearest Neighbors</font>"
   ]
  },
  {
   "cell_type": "markdown",
   "metadata": {},
   "source": [
    "## <font color=green>cvec + manual preprocessed set</font>"
   ]
  },
  {
   "cell_type": "code",
   "execution_count": 23,
   "metadata": {},
   "outputs": [
    {
     "name": "stdout",
     "output_type": "stream",
     "text": [
      "Fitting 5 folds for each of 50 candidates, totalling 250 fits\n"
     ]
    },
    {
     "name": "stderr",
     "output_type": "stream",
     "text": [
      "[Parallel(n_jobs=-1)]: Using backend LokyBackend with 8 concurrent workers.\n",
      "[Parallel(n_jobs=-1)]: Done  34 tasks      | elapsed:    6.1s\n",
      "[Parallel(n_jobs=-1)]: Done 184 tasks      | elapsed:   37.4s\n",
      "[Parallel(n_jobs=-1)]: Done 250 out of 250 | elapsed:   50.0s finished\n"
     ]
    },
    {
     "name": "stdout",
     "output_type": "stream",
     "text": [
      "Best parameters: {'transformer__ngram_range': (1, 1), 'transformer__min_df': 2, 'transformer__max_features': 5821, 'transformer__max_df': 0.84, 'estimator__weights': 'distance', 'estimator__p': 2, 'estimator__n_neighbors': 33}\n",
      "\n",
      "Train Score: 0.7155956647892132\n",
      "Test Score: 0.7174515235457064\n"
     ]
    }
   ],
   "source": [
    "knn_cvec_manpp_estimator = RandomizedSearchCV(\n",
    "    Pipeline((\n",
    "        (\"transformer\", CountVectorizer()),\n",
    "        (\"estimator\", KNeighborsClassifier())\n",
    "    )),\n",
    "    {\n",
    "        \"transformer__max_features\": np.arange(1_000, 10_000),\n",
    "        \"transformer__min_df\": np.arange(1, 3),\n",
    "        \"transformer__max_df\": np.linspace(0, 1, endpoint=False),\n",
    "        \"transformer__ngram_range\": [(1, 1), (1, 2), (1, 3)],\n",
    "        \"estimator__n_neighbors\" : np.arange(3, 50, 2),\n",
    "        \"estimator__weights\" : ['uniform', 'distance'],\n",
    "        \"estimator__p\" : [1, 2]\n",
    "\n",
    "    },\n",
    "    n_iter=50,\n",
    "    cv=5,\n",
    "    n_jobs=-1,\n",
    "    verbose=1\n",
    ").fit(X_train_posts_manpp, y_train)\n",
    "print(f\"Best parameters: {knn_cvec_manpp_estimator.best_params_}\")\n",
    "print(\"\")\n",
    "print(f\"Train Score: {knn_cvec_manpp_estimator.best_score_}\")\n",
    "print(f\"Test Score: {knn_cvec_manpp_estimator.score(X_test_posts_manpp, y_test)}\")"
   ]
  },
  {
   "cell_type": "markdown",
   "metadata": {},
   "source": [
    "## <font color=green>tvec + manual preprocessed set</font>"
   ]
  },
  {
   "cell_type": "code",
   "execution_count": 24,
   "metadata": {
    "scrolled": true
   },
   "outputs": [
    {
     "name": "stdout",
     "output_type": "stream",
     "text": [
      "Fitting 5 folds for each of 50 candidates, totalling 250 fits\n"
     ]
    },
    {
     "name": "stderr",
     "output_type": "stream",
     "text": [
      "[Parallel(n_jobs=-1)]: Using backend LokyBackend with 8 concurrent workers.\n",
      "[Parallel(n_jobs=-1)]: Done  48 tasks      | elapsed:    8.9s\n",
      "[Parallel(n_jobs=-1)]: Done 200 tasks      | elapsed:   39.7s\n",
      "[Parallel(n_jobs=-1)]: Done 250 out of 250 | elapsed:   49.5s finished\n"
     ]
    },
    {
     "name": "stdout",
     "output_type": "stream",
     "text": [
      "Best parameters: {'transformer__ngram_range': (1, 3), 'transformer__min_df': 2, 'transformer__max_features': 5763, 'transformer__max_df': 0.7000000000000001, 'estimator__weights': 'distance', 'estimator__p': 2, 'estimator__n_neighbors': 35}\n",
      "\n",
      "Train Score: 0.923374295954941\n",
      "Test Score: 0.9307479224376731\n"
     ]
    }
   ],
   "source": [
    "knn_tvec_manpp_estimator = RandomizedSearchCV(\n",
    "    Pipeline((\n",
    "        (\"transformer\", TfidfVectorizer()),\n",
    "        (\"estimator\", KNeighborsClassifier())\n",
    "    )),\n",
    "    {\n",
    "        \"transformer__max_features\": np.arange(1_000, 10_000),\n",
    "        \"transformer__min_df\": np.arange(1, 3),\n",
    "        \"transformer__max_df\": np.linspace(0, 1, endpoint=False),\n",
    "        \"transformer__ngram_range\": [(1, 1), (1, 2), (1, 3)],\n",
    "        \"estimator__n_neighbors\" : np.arange(3, 50, 2),\n",
    "        \"estimator__weights\" : ['uniform', 'distance'],\n",
    "        \"estimator__p\" : [1, 2]\n",
    "\n",
    "    },\n",
    "    n_iter=50,\n",
    "    cv=5,\n",
    "    n_jobs=-1,\n",
    "    verbose=1\n",
    ").fit(X_train_posts_manpp, y_train)\n",
    "print(f\"Best parameters: {knn_tvec_manpp_estimator.best_params_}\")\n",
    "print(\"\")\n",
    "print(f\"Train Score: {knn_tvec_manpp_estimator.best_score_}\")\n",
    "print(f\"Test Score: {knn_tvec_manpp_estimator.score(X_test_posts_manpp, y_test)}\")"
   ]
  },
  {
   "cell_type": "markdown",
   "metadata": {},
   "source": [
    "## <font color=green>cvec + built-in preprocess</font>"
   ]
  },
  {
   "cell_type": "code",
   "execution_count": 25,
   "metadata": {},
   "outputs": [
    {
     "name": "stdout",
     "output_type": "stream",
     "text": [
      "Fitting 5 folds for each of 50 candidates, totalling 250 fits\n"
     ]
    },
    {
     "name": "stderr",
     "output_type": "stream",
     "text": [
      "[Parallel(n_jobs=-1)]: Using backend LokyBackend with 8 concurrent workers.\n",
      "[Parallel(n_jobs=-1)]: Done  52 tasks      | elapsed:    3.9s\n",
      "[Parallel(n_jobs=-1)]: Done 224 tasks      | elapsed:   16.9s\n",
      "[Parallel(n_jobs=-1)]: Done 250 out of 250 | elapsed:   19.4s finished\n"
     ]
    },
    {
     "name": "stdout",
     "output_type": "stream",
     "text": [
      "Best parameters: {'transformer__ngram_range': (1, 2), 'transformer__min_df': 2, 'transformer__max_features': 2201, 'transformer__max_df': 0.74, 'estimator__weights': 'uniform', 'estimator__p': 2, 'estimator__n_neighbors': 5}\n",
      "\n",
      "Train Score: 0.6158858166922683\n",
      "Test Score: 0.6537396121883656\n"
     ]
    }
   ],
   "source": [
    "knn_cvec_estimator = RandomizedSearchCV(\n",
    "    Pipeline((\n",
    "        (\"transformer\", CountVectorizer(stop_words=\"english\")),\n",
    "        (\"estimator\", KNeighborsClassifier())\n",
    "    )),\n",
    "    {\n",
    "        \"transformer__max_features\": np.arange(1_000, 10_000),\n",
    "        \"transformer__min_df\": np.arange(1, 3),\n",
    "        \"transformer__max_df\": np.linspace(0, 1, endpoint=False),\n",
    "        \"transformer__ngram_range\": [(1, 1), (1, 2), (1, 3)],\n",
    "        \"estimator__n_neighbors\" : np.arange(3, 50, 2),\n",
    "        \"estimator__weights\" : ['uniform', 'distance'],\n",
    "        \"estimator__p\" : [1, 2]\n",
    "\n",
    "    },\n",
    "    n_iter=50,\n",
    "    cv=5,\n",
    "    n_jobs=-1,\n",
    "    verbose=1\n",
    ").fit(X_train_posts, y_train)\n",
    "print(f\"Best parameters: {knn_cvec_estimator.best_params_}\")\n",
    "print(\"\")\n",
    "print(f\"Train Score: {knn_cvec_estimator.best_score_}\")\n",
    "print(f\"Test Score: {knn_cvec_estimator.score(X_test_posts, y_test)}\")"
   ]
  },
  {
   "cell_type": "markdown",
   "metadata": {},
   "source": [
    "## <font color=green>tvec + built-in preprocess</font>"
   ]
  },
  {
   "cell_type": "code",
   "execution_count": 26,
   "metadata": {
    "scrolled": false
   },
   "outputs": [
    {
     "name": "stdout",
     "output_type": "stream",
     "text": [
      "Fitting 5 folds for each of 50 candidates, totalling 250 fits\n"
     ]
    },
    {
     "name": "stderr",
     "output_type": "stream",
     "text": [
      "[Parallel(n_jobs=-1)]: Using backend LokyBackend with 8 concurrent workers.\n",
      "[Parallel(n_jobs=-1)]: Done  34 tasks      | elapsed:    3.7s\n",
      "[Parallel(n_jobs=-1)]: Done 184 tasks      | elapsed:   18.3s\n",
      "[Parallel(n_jobs=-1)]: Done 250 out of 250 | elapsed:   26.2s finished\n"
     ]
    },
    {
     "name": "stdout",
     "output_type": "stream",
     "text": [
      "Best parameters: {'transformer__ngram_range': (1, 2), 'transformer__min_df': 2, 'transformer__max_features': 5986, 'transformer__max_df': 0.8, 'estimator__weights': 'distance', 'estimator__p': 2, 'estimator__n_neighbors': 31}\n",
      "\n",
      "Train Score: 0.9067673664447857\n",
      "Test Score: 0.8199445983379502\n"
     ]
    }
   ],
   "source": [
    "knn_tvec_estimator = RandomizedSearchCV(\n",
    "    Pipeline((\n",
    "        (\"transformer\", TfidfVectorizer(stop_words=\"english\")),\n",
    "        (\"estimator\", KNeighborsClassifier())\n",
    "    )),\n",
    "    {\n",
    "        \"transformer__max_features\": np.arange(1_000, 10_000),\n",
    "        \"transformer__min_df\": np.arange(1, 3),\n",
    "        \"transformer__max_df\": np.linspace(0, 1, endpoint=False),\n",
    "        \"transformer__ngram_range\": [(1, 1), (1, 2), (1, 3)],\n",
    "        \"estimator__n_neighbors\" : np.arange(3, 50, 2),\n",
    "        \"estimator__weights\" : ['uniform', 'distance'],\n",
    "        \"estimator__p\" : [1, 2]\n",
    "\n",
    "    },\n",
    "    n_iter=50,\n",
    "    cv=5,\n",
    "    n_jobs=-1,\n",
    "    verbose=1\n",
    ").fit(X_train_posts, y_train)\n",
    "print(f\"Best parameters: {knn_tvec_estimator.best_params_}\")\n",
    "print(\"\")\n",
    "print(f\"Train Score: {knn_tvec_estimator.best_score_}\")\n",
    "print(f\"Test Score: {knn_tvec_estimator.score(X_test_posts, y_test)}\")"
   ]
  },
  {
   "cell_type": "markdown",
   "metadata": {},
   "source": [
    "# <font color=green>Logistic Regression</font>"
   ]
  },
  {
   "cell_type": "markdown",
   "metadata": {},
   "source": [
    "## <font color=green>cvec + manual preprocessed set</font>"
   ]
  },
  {
   "cell_type": "code",
   "execution_count": 27,
   "metadata": {},
   "outputs": [
    {
     "name": "stdout",
     "output_type": "stream",
     "text": [
      "Fitting 5 folds for each of 50 candidates, totalling 250 fits\n"
     ]
    },
    {
     "name": "stderr",
     "output_type": "stream",
     "text": [
      "[Parallel(n_jobs=-1)]: Using backend LokyBackend with 8 concurrent workers.\n",
      "[Parallel(n_jobs=-1)]: Done  34 tasks      | elapsed:    4.5s\n",
      "[Parallel(n_jobs=-1)]: Done 184 tasks      | elapsed:   22.9s\n",
      "[Parallel(n_jobs=-1)]: Done 250 out of 250 | elapsed:   32.1s finished\n"
     ]
    },
    {
     "name": "stdout",
     "output_type": "stream",
     "text": [
      "Best parameters: {'transformer__ngram_range': (1, 2), 'transformer__min_df': 1, 'transformer__max_features': 2398, 'transformer__max_df': 0.46, 'estimator__penalty': 'l2', 'estimator__C': 0.004291934260128779}\n",
      "\n",
      "Train Score: 0.9676779313876087\n",
      "Test Score: 0.9778393351800554\n"
     ]
    }
   ],
   "source": [
    "logr_cvec_manpp_estimator = RandomizedSearchCV(\n",
    "    Pipeline((\n",
    "        (\"transformer\", CountVectorizer()),\n",
    "        (\"estimator\", LogisticRegression(solver='liblinear'))\n",
    "    )),\n",
    "    {\n",
    "        \"transformer__max_features\": np.arange(1_000, 10_000),\n",
    "        \"transformer__min_df\": np.arange(1, 3),\n",
    "        \"transformer__max_df\": np.linspace(0, 1, endpoint=False),\n",
    "        \"transformer__ngram_range\": [(1, 1), (1, 2), (1, 3)],\n",
    "        \"estimator__penalty\" : ['l1', 'l2'],\n",
    "        \"estimator__C\" : np.logspace(-4,4)\n",
    "\n",
    "    },\n",
    "    n_iter=50,\n",
    "    cv=5,\n",
    "    n_jobs=-1,\n",
    "    verbose=1\n",
    ").fit(X_train_posts_manpp, y_train)\n",
    "print(f\"Best parameters: {logr_cvec_manpp_estimator.best_params_}\")\n",
    "print(\"\")\n",
    "print(f\"Train Score: {logr_cvec_manpp_estimator.best_score_}\")\n",
    "print(f\"Test Score: {logr_cvec_manpp_estimator.score(X_test_posts_manpp, y_test)}\")"
   ]
  },
  {
   "cell_type": "markdown",
   "metadata": {},
   "source": [
    "## <font color=green>tvec + manual preprocessed set</font>"
   ]
  },
  {
   "cell_type": "code",
   "execution_count": 28,
   "metadata": {
    "scrolled": true
   },
   "outputs": [
    {
     "name": "stdout",
     "output_type": "stream",
     "text": [
      "Fitting 5 folds for each of 50 candidates, totalling 250 fits\n"
     ]
    },
    {
     "name": "stderr",
     "output_type": "stream",
     "text": [
      "[Parallel(n_jobs=-1)]: Using backend LokyBackend with 8 concurrent workers.\n",
      "[Parallel(n_jobs=-1)]: Done  52 tasks      | elapsed:    4.9s\n",
      "[Parallel(n_jobs=-1)]: Done 208 tasks      | elapsed:   23.5s\n",
      "[Parallel(n_jobs=-1)]: Done 250 out of 250 | elapsed:   29.2s finished\n"
     ]
    },
    {
     "name": "stdout",
     "output_type": "stream",
     "text": [
      "Best parameters: {'transformer__ngram_range': (1, 3), 'transformer__min_df': 2, 'transformer__max_features': 2051, 'transformer__max_df': 0.38, 'estimator__penalty': 'l2', 'estimator__C': 2.559547922699533}\n",
      "\n",
      "Train Score: 0.9658516811742619\n",
      "Test Score: 0.9695290858725761\n"
     ]
    }
   ],
   "source": [
    "logr_tvec_manpp_estimator = RandomizedSearchCV(\n",
    "    Pipeline((\n",
    "        (\"transformer\", TfidfVectorizer()),\n",
    "        (\"estimator\", LogisticRegression(solver='liblinear'))\n",
    "    )),\n",
    "    {\n",
    "        \"transformer__max_features\": np.arange(1_000, 10_000),\n",
    "        \"transformer__min_df\": np.arange(1, 3),\n",
    "        \"transformer__max_df\": np.linspace(0, 1, endpoint=False),\n",
    "        \"transformer__ngram_range\": [(1, 1), (1, 2), (1, 3)],\n",
    "        \"estimator__penalty\" : ['l1', 'l2'],\n",
    "        \"estimator__C\" : np.logspace(-4,4)\n",
    "\n",
    "\n",
    "    },\n",
    "    n_iter=50,\n",
    "    cv=5,\n",
    "    n_jobs=-1,\n",
    "    verbose=1\n",
    ").fit(X_train_posts_manpp, y_train)\n",
    "print(f\"Best parameters: {logr_tvec_manpp_estimator.best_params_}\")\n",
    "print(\"\")\n",
    "print(f\"Train Score: {logr_tvec_manpp_estimator.best_score_}\")\n",
    "print(f\"Test Score: {logr_tvec_manpp_estimator.score(X_test_posts_manpp, y_test)}\")"
   ]
  },
  {
   "cell_type": "markdown",
   "metadata": {},
   "source": [
    "## <font color=green>cvec + built-in preprocess</font>"
   ]
  },
  {
   "cell_type": "code",
   "execution_count": 29,
   "metadata": {},
   "outputs": [
    {
     "name": "stdout",
     "output_type": "stream",
     "text": [
      "Fitting 5 folds for each of 50 candidates, totalling 250 fits\n"
     ]
    },
    {
     "name": "stderr",
     "output_type": "stream",
     "text": [
      "[Parallel(n_jobs=-1)]: Using backend LokyBackend with 8 concurrent workers.\n",
      "[Parallel(n_jobs=-1)]: Done  52 tasks      | elapsed:    5.1s\n",
      "[Parallel(n_jobs=-1)]: Done 216 tasks      | elapsed:   20.2s\n",
      "[Parallel(n_jobs=-1)]: Done 250 out of 250 | elapsed:   23.8s finished\n"
     ]
    },
    {
     "name": "stdout",
     "output_type": "stream",
     "text": [
      "Best parameters: {'transformer__ngram_range': (1, 2), 'transformer__min_df': 2, 'transformer__max_features': 4643, 'transformer__max_df': 0.4, 'estimator__penalty': 'l2', 'estimator__C': 0.004291934260128779}\n",
      "\n",
      "Train Score: 0.9658644819935143\n",
      "Test Score: 0.9722991689750693\n"
     ]
    }
   ],
   "source": [
    "logr_cvec_estimator = RandomizedSearchCV(\n",
    "    Pipeline((\n",
    "        (\"transformer\", CountVectorizer(stop_words=\"english\")),\n",
    "        (\"estimator\", LogisticRegression(solver='liblinear'))\n",
    "    )),\n",
    "    {\n",
    "        \"transformer__max_features\": np.arange(1_000, 10_000),\n",
    "        \"transformer__min_df\": np.arange(1, 3),\n",
    "        \"transformer__max_df\": np.linspace(0, 1, endpoint=False),\n",
    "        \"transformer__ngram_range\": [(1, 1), (1, 2), (1, 3)],\n",
    "        \"estimator__penalty\" : ['l1', 'l2'],\n",
    "        \"estimator__C\" : np.logspace(-4,4)\n",
    "\n",
    "    },\n",
    "    n_iter=50,\n",
    "    cv=5,\n",
    "    n_jobs=-1,\n",
    "    verbose=1\n",
    ").fit(X_train_posts, y_train)\n",
    "print(f\"Best parameters: {logr_cvec_estimator.best_params_}\")\n",
    "print(\"\")\n",
    "print(f\"Train Score: {logr_cvec_estimator.best_score_}\")\n",
    "print(f\"Test Score: {logr_cvec_estimator.score(X_test_posts, y_test)}\")"
   ]
  },
  {
   "cell_type": "markdown",
   "metadata": {},
   "source": [
    "## <font color=green>tvec + built-in preprocess</font>"
   ]
  },
  {
   "cell_type": "code",
   "execution_count": 30,
   "metadata": {
    "scrolled": false
   },
   "outputs": [
    {
     "name": "stdout",
     "output_type": "stream",
     "text": [
      "Fitting 5 folds for each of 50 candidates, totalling 250 fits\n"
     ]
    },
    {
     "name": "stderr",
     "output_type": "stream",
     "text": [
      "[Parallel(n_jobs=-1)]: Using backend LokyBackend with 8 concurrent workers.\n",
      "[Parallel(n_jobs=-1)]: Done  34 tasks      | elapsed:    3.3s\n",
      "[Parallel(n_jobs=-1)]: Done 184 tasks      | elapsed:   21.1s\n",
      "[Parallel(n_jobs=-1)]: Done 250 out of 250 | elapsed:   28.9s finished\n"
     ]
    },
    {
     "name": "stdout",
     "output_type": "stream",
     "text": [
      "Best parameters: {'transformer__ngram_range': (1, 3), 'transformer__min_df': 1, 'transformer__max_features': 4946, 'transformer__max_df': 0.88, 'estimator__penalty': 'l2', 'estimator__C': 1.7575106248547894}\n",
      "\n",
      "Train Score: 0.9704642430448883\n",
      "Test Score: 0.9584487534626038\n"
     ]
    }
   ],
   "source": [
    "logr_tvec_estimator = RandomizedSearchCV(\n",
    "    Pipeline((\n",
    "        (\"transformer\", TfidfVectorizer(stop_words=\"english\")),\n",
    "        (\"estimator\", LogisticRegression(solver='liblinear'))\n",
    "    )),\n",
    "    {\n",
    "        \"transformer__max_features\": np.arange(1_000, 10_000),\n",
    "        \"transformer__min_df\": np.arange(1, 3),\n",
    "        \"transformer__max_df\": np.linspace(0, 1, endpoint=False),\n",
    "        \"transformer__ngram_range\": [(1, 1), (1, 2), (1, 3)],\n",
    "        \"estimator__penalty\" : ['l1', 'l2'],\n",
    "        \"estimator__C\" : np.logspace(-4,4)\n",
    "\n",
    "    },\n",
    "    n_iter=50,\n",
    "    cv=5,\n",
    "    n_jobs=-1,\n",
    "    verbose=1\n",
    ").fit(X_train_posts, y_train)\n",
    "print(f\"Best parameters: {logr_tvec_estimator.best_params_}\")\n",
    "print(\"\")\n",
    "print(f\"Train Score: {logr_tvec_estimator.best_score_}\")\n",
    "print(f\"Test Score: {logr_tvec_estimator.score(X_test_posts, y_test)}\")"
   ]
  },
  {
   "cell_type": "markdown",
   "metadata": {},
   "source": [
    "# <font color=green>Train-Test Split Score Summary</font>"
   ]
  },
  {
   "cell_type": "code",
   "execution_count": 31,
   "metadata": {},
   "outputs": [
    {
     "data": {
      "text/html": [
       "<div>\n",
       "<style scoped>\n",
       "    .dataframe tbody tr th:only-of-type {\n",
       "        vertical-align: middle;\n",
       "    }\n",
       "\n",
       "    .dataframe tbody tr th {\n",
       "        vertical-align: top;\n",
       "    }\n",
       "\n",
       "    .dataframe thead th {\n",
       "        text-align: right;\n",
       "    }\n",
       "</style>\n",
       "<table border=\"1\" class=\"dataframe\">\n",
       "  <thead>\n",
       "    <tr style=\"text-align: right;\">\n",
       "      <th></th>\n",
       "      <th>train_score</th>\n",
       "      <th>test_score</th>\n",
       "      <th>abs_delta</th>\n",
       "      <th>preprocessing</th>\n",
       "      <th>transformer</th>\n",
       "      <th>model</th>\n",
       "    </tr>\n",
       "  </thead>\n",
       "  <tbody>\n",
       "    <tr>\n",
       "      <th>0</th>\n",
       "      <td>0.715</td>\n",
       "      <td>0.717</td>\n",
       "      <td>0.002</td>\n",
       "      <td>manual</td>\n",
       "      <td>cvec</td>\n",
       "      <td>knn</td>\n",
       "    </tr>\n",
       "    <tr>\n",
       "      <th>1</th>\n",
       "      <td>0.923</td>\n",
       "      <td>0.930</td>\n",
       "      <td>0.007</td>\n",
       "      <td>manual</td>\n",
       "      <td>tvec</td>\n",
       "      <td>knn</td>\n",
       "    </tr>\n",
       "    <tr>\n",
       "      <th>2</th>\n",
       "      <td>0.615</td>\n",
       "      <td>0.653</td>\n",
       "      <td>0.038</td>\n",
       "      <td>built_in</td>\n",
       "      <td>cvec</td>\n",
       "      <td>knn</td>\n",
       "    </tr>\n",
       "    <tr>\n",
       "      <th>3</th>\n",
       "      <td>0.906</td>\n",
       "      <td>0.820</td>\n",
       "      <td>0.086</td>\n",
       "      <td>built_in</td>\n",
       "      <td>tvec</td>\n",
       "      <td>knn</td>\n",
       "    </tr>\n",
       "    <tr>\n",
       "      <th>4</th>\n",
       "      <td>0.937</td>\n",
       "      <td>0.925</td>\n",
       "      <td>0.012</td>\n",
       "      <td>manual</td>\n",
       "      <td>cvec</td>\n",
       "      <td>naive_bayes</td>\n",
       "    </tr>\n",
       "    <tr>\n",
       "      <th>5</th>\n",
       "      <td>0.922</td>\n",
       "      <td>0.920</td>\n",
       "      <td>0.002</td>\n",
       "      <td>manual</td>\n",
       "      <td>tvec</td>\n",
       "      <td>naive_bayes</td>\n",
       "    </tr>\n",
       "    <tr>\n",
       "      <th>6</th>\n",
       "      <td>0.938</td>\n",
       "      <td>0.925</td>\n",
       "      <td>0.013</td>\n",
       "      <td>built_in</td>\n",
       "      <td>cvec</td>\n",
       "      <td>naive_bayes</td>\n",
       "    </tr>\n",
       "    <tr>\n",
       "      <th>7</th>\n",
       "      <td>0.925</td>\n",
       "      <td>0.922</td>\n",
       "      <td>0.003</td>\n",
       "      <td>built_in</td>\n",
       "      <td>tvec</td>\n",
       "      <td>naive_bayes</td>\n",
       "    </tr>\n",
       "    <tr>\n",
       "      <th>8</th>\n",
       "      <td>0.967</td>\n",
       "      <td>0.977</td>\n",
       "      <td>0.010</td>\n",
       "      <td>manual</td>\n",
       "      <td>cvec</td>\n",
       "      <td>logistic_regression</td>\n",
       "    </tr>\n",
       "    <tr>\n",
       "      <th>9</th>\n",
       "      <td>0.965</td>\n",
       "      <td>0.969</td>\n",
       "      <td>0.004</td>\n",
       "      <td>manual</td>\n",
       "      <td>tvec</td>\n",
       "      <td>logistic_regression</td>\n",
       "    </tr>\n",
       "    <tr>\n",
       "      <th>10</th>\n",
       "      <td>0.965</td>\n",
       "      <td>0.932</td>\n",
       "      <td>0.033</td>\n",
       "      <td>built_in</td>\n",
       "      <td>cvec</td>\n",
       "      <td>logistic_regression</td>\n",
       "    </tr>\n",
       "    <tr>\n",
       "      <th>11</th>\n",
       "      <td>0.970</td>\n",
       "      <td>0.958</td>\n",
       "      <td>0.012</td>\n",
       "      <td>built_in</td>\n",
       "      <td>tvec</td>\n",
       "      <td>logistic_regression</td>\n",
       "    </tr>\n",
       "  </tbody>\n",
       "</table>\n",
       "</div>"
      ],
      "text/plain": [
       "    train_score  test_score  abs_delta preprocessing transformer  \\\n",
       "0         0.715       0.717      0.002        manual        cvec   \n",
       "1         0.923       0.930      0.007        manual        tvec   \n",
       "2         0.615       0.653      0.038      built_in        cvec   \n",
       "3         0.906       0.820      0.086      built_in        tvec   \n",
       "4         0.937       0.925      0.012        manual        cvec   \n",
       "5         0.922       0.920      0.002        manual        tvec   \n",
       "6         0.938       0.925      0.013      built_in        cvec   \n",
       "7         0.925       0.922      0.003      built_in        tvec   \n",
       "8         0.967       0.977      0.010        manual        cvec   \n",
       "9         0.965       0.969      0.004        manual        tvec   \n",
       "10        0.965       0.932      0.033      built_in        cvec   \n",
       "11        0.970       0.958      0.012      built_in        tvec   \n",
       "\n",
       "                  model  \n",
       "0                   knn  \n",
       "1                   knn  \n",
       "2                   knn  \n",
       "3                   knn  \n",
       "4           naive_bayes  \n",
       "5           naive_bayes  \n",
       "6           naive_bayes  \n",
       "7           naive_bayes  \n",
       "8   logistic_regression  \n",
       "9   logistic_regression  \n",
       "10  logistic_regression  \n",
       "11  logistic_regression  "
      ]
     },
     "execution_count": 31,
     "metadata": {},
     "output_type": "execute_result"
    }
   ],
   "source": [
    "test_sum = [\n",
    "    (0.715, 0.717, 0.002, \"manual\", \"cvec\", \"knn\"),\n",
    "    (0.923, 0.930, 0.007, \"manual\", \"tvec\", \"knn\"),\n",
    "    (0.615, 0.653, 0.038, \"built_in\", \"cvec\", \"knn\"),\n",
    "    (0.906, 0.820, 0.086, \"built_in\", \"tvec\", \"knn\"),\n",
    "    (0.937, 0.925, 0.012, \"manual\", \"cvec\", \"naive_bayes\"),\n",
    "    (0.922, 0.920, 0.002, \"manual\", \"tvec\", \"naive_bayes\"),\n",
    "    (0.938, 0.925, 0.013, \"built_in\", \"cvec\", \"naive_bayes\"),\n",
    "    (0.925, 0.922, 0.003, \"built_in\", \"tvec\", \"naive_bayes\"),\n",
    "    (0.967, 0.977, 0.010, \"manual\", \"cvec\", \"logistic_regression\"),\n",
    "    (0.965, 0.969, 0.004, \"manual\", \"tvec\", \"logistic_regression\"),\n",
    "    (0.965, 0.932, 0.033, \"built_in\", \"cvec\", \"logistic_regression\"),\n",
    "    (0.970, 0.958, 0.012, \"built_in\", \"tvec\", \"logistic_regression\"),\n",
    "\n",
    "]\n",
    "\n",
    "columns = [\"train_score\", \"test_score\", \"abs_delta\", \n",
    "           \"preprocessing\", \"transformer\", \"model\"]\n",
    "test_sum_df = pd.DataFrame(test_sum, columns = columns)\n",
    "\n",
    "test_sum_df"
   ]
  },
  {
   "cell_type": "code",
   "execution_count": 32,
   "metadata": {},
   "outputs": [
    {
     "data": {
      "image/png": "[encoded data removed]",
      "text/plain": [
       "<Figure size 720x576 with 1 Axes>"
      ]
     },
     "metadata": {
      "needs_background": "light"
     },
     "output_type": "display_data"
    }
   ],
   "source": [
    "test_sum_df.groupby([\"model\", \"transformer\"]).mean().plot(kind=\"barh\", \n",
    "                    figsize=(10,8))\n",
    "\n",
    "\n",
    "\n",
    "plt.xticks([0,0.1,0.2,0.3,0.4,0.5,0.6,0.7,0.8,0.9,1], fontsize=15)\n",
    "plt.yticks(fontsize=15);\n",
    "plt.xlabel(\"Accuracy Score\", fontsize=20)\n",
    "plt.ylabel(\"Model, Transfomer\" , fontsize=20)\n",
    "plt.title(\"Train-Test Split Score Summary\", fontsize=20)\n",
    "plt.legend([\"train_score\", \"test_score\", \"abs_delta\"], fontsize=15, loc='lower right')\n",
    "\n",
    "plt.vlines(x=0.05, ymin=-10, ymax=100, color='r', linestyles='dashed')\n",
    "plt.vlines(x=0.95, ymin=-10, ymax=100, color='g', linestyles='dashed');"
   ]
  },
  {
   "cell_type": "markdown",
   "metadata": {},
   "source": [
    "Train vs Test score variance\n",
    "- All models are able to achieve low variance between Train and Test sets accuracy scores (<0.1 delta accuracy scores)\n",
    "\n",
    "Best performing Accuracy\n",
    "- Logistic Regression models produced the best Accuracy score around 0.95 as compared to Naive Bayes 0.93 and knn 0.90 (TF-IDF)\n",
    "- Both Naive Bayes and Logistic Regression models assumes that all words are independent. This unrealistic assumption may have a greater negative impact to Naive Bayes resulting in it's lower accuracy. \n",
    "- Logistive Regresssion which models with minimizing residual squared errors may worked better than Naive Bayes' which uses probability.\n",
    "- knn models using normal count vectorizer has poor accuracy score below 0.80. Considering that the model was built on word counting, Non-parametric methods may not be ideal. They will not be considered for production model\n",
    "\n",
    "Count vs TF-IDF vectorizing\n",
    "- It is interesting to note that knn with TF-IDF vectorizer scored significantly better close to 0.9 accuracy as compared to Count Vectorizer.\n",
    "- Since the objective is to classify posts into their respective classes, the keywords discriminating feature of TF-IDF is expected to provide a more robust model\n",
    "- Although we do not notice any significant score improvements from TF-IDF vectorizer on Naive Bayes & Logistics Regression models, we believe that applying TF-IDF should make our production model more robust when classifying unseen posts.\n",
    "\n",
    "Manual vs Vectorizer built-in preprocessing\n",
    "- There is no signifcant difference between methods\n",
    "- For simplicity, Production model will use built-in TF-IDF vectorizing with sklearn stop-words"
   ]
  },
  {
   "cell_type": "markdown",
   "metadata": {},
   "source": [
    "# <font color=green>Production Model Evaluation</font>\n",
    "#### <font color=green>Logistic Regression Model, TF-IDF Vectorizer using built-in preprocessing</font>"
   ]
  },
  {
   "cell_type": "code",
   "execution_count": 64,
   "metadata": {},
   "outputs": [
    {
     "data": {
      "text/plain": [
       "Pipeline(memory=None,\n",
       "         steps=[('transformer',\n",
       "                 TfidfVectorizer(analyzer='word', binary=False,\n",
       "                                 decode_error='strict',\n",
       "                                 dtype=<class 'numpy.float64'>,\n",
       "                                 encoding='utf-8', input='content',\n",
       "                                 lowercase=True, max_df=0.88, max_features=4946,\n",
       "                                 min_df=1, ngram_range=(1, 3), norm='l2',\n",
       "                                 preprocessor=None, smooth_idf=True,\n",
       "                                 stop_words='english', strip_accents=None,\n",
       "                                 sublinear_tf=False,\n",
       "                                 tok...'(?u)\\\\b\\\\w\\\\w+\\\\b',\n",
       "                                 tokenizer=None, use_idf=True,\n",
       "                                 vocabulary=None)),\n",
       "                ('estimator',\n",
       "                 LogisticRegression(C=1.7575106248547894, class_weight=None,\n",
       "                                    dual=False, fit_intercept=True,\n",
       "                                    intercept_scaling=1, l1_ratio=None,\n",
       "                                    max_iter=100, multi_class='auto',\n",
       "                                    n_jobs=None, penalty='l2',\n",
       "                                    random_state=None, solver='liblinear',\n",
       "                                    tol=0.0001, verbose=0, warm_start=False))],\n",
       "         verbose=False)"
      ]
     },
     "execution_count": 64,
     "metadata": {},
     "output_type": "execute_result"
    }
   ],
   "source": [
    "# Best Transformer and Estimator details\n",
    "logr_tvec_estimator.best_estimator_"
   ]
  },
  {
   "cell_type": "code",
   "execution_count": 65,
   "metadata": {
    "scrolled": true
   },
   "outputs": [
    {
     "data": {
      "text/plain": [
       "{'transformer__ngram_range': (1, 3),\n",
       " 'transformer__min_df': 1,\n",
       " 'transformer__max_features': 4946,\n",
       " 'transformer__max_df': 0.88,\n",
       " 'estimator__penalty': 'l2',\n",
       " 'estimator__C': 1.7575106248547894}"
      ]
     },
     "execution_count": 65,
     "metadata": {},
     "output_type": "execute_result"
    }
   ],
   "source": [
    "# Best Hyperparameters settings\n",
    "logr_tvec_estimator.best_params_"
   ]
  },
  {
   "cell_type": "markdown",
   "metadata": {},
   "source": [
    "#### <font color=red>test set is fairly balanced. Considering the major class of 0.51 (vegan), that will be our baseline score</font>"
   ]
  },
  {
   "cell_type": "code",
   "execution_count": 37,
   "metadata": {},
   "outputs": [
    {
     "data": {
      "text/plain": [
       "0    0.518006\n",
       "1    0.481994\n",
       "Name: subreddit_tgt, dtype: float64"
      ]
     },
     "execution_count": 37,
     "metadata": {},
     "output_type": "execute_result"
    }
   ],
   "source": [
    "y_test.value_counts(normalize=True)"
   ]
  },
  {
   "cell_type": "markdown",
   "metadata": {},
   "source": [
    "<font color=green>We fit on entire X_test again</font>"
   ]
  },
  {
   "cell_type": "code",
   "execution_count": 39,
   "metadata": {},
   "outputs": [
    {
     "data": {
      "text/plain": [
       "0.9584487534626038"
      ]
     },
     "execution_count": 39,
     "metadata": {},
     "output_type": "execute_result"
    }
   ],
   "source": [
    "# Accuracy score of > 0.95 achieved\n",
    "logr_tvec_estimator.score(X_test_posts, y_test)"
   ]
  },
  {
   "cell_type": "markdown",
   "metadata": {},
   "source": [
    "<font color=green>Construct Confusion Matrix and review other metrices</font>"
   ]
  },
  {
   "cell_type": "code",
   "execution_count": 40,
   "metadata": {},
   "outputs": [],
   "source": [
    "pred = logr_tvec_estimator.predict(X_test_posts)"
   ]
  },
  {
   "cell_type": "code",
   "execution_count": 41,
   "metadata": {},
   "outputs": [],
   "source": [
    "cm = confusion_matrix(y_test, pred)"
   ]
  },
  {
   "cell_type": "code",
   "execution_count": 42,
   "metadata": {},
   "outputs": [
    {
     "data": {
      "text/html": [
       "<div>\n",
       "<style scoped>\n",
       "    .dataframe tbody tr th:only-of-type {\n",
       "        vertical-align: middle;\n",
       "    }\n",
       "\n",
       "    .dataframe tbody tr th {\n",
       "        vertical-align: top;\n",
       "    }\n",
       "\n",
       "    .dataframe thead th {\n",
       "        text-align: right;\n",
       "    }\n",
       "</style>\n",
       "<table border=\"1\" class=\"dataframe\">\n",
       "  <thead>\n",
       "    <tr style=\"text-align: right;\">\n",
       "      <th></th>\n",
       "      <th>predict vegan</th>\n",
       "      <th>predict keto</th>\n",
       "    </tr>\n",
       "  </thead>\n",
       "  <tbody>\n",
       "    <tr>\n",
       "      <th>actual vegan</th>\n",
       "      <td>182</td>\n",
       "      <td>5</td>\n",
       "    </tr>\n",
       "    <tr>\n",
       "      <th>actual keto</th>\n",
       "      <td>10</td>\n",
       "      <td>164</td>\n",
       "    </tr>\n",
       "  </tbody>\n",
       "</table>\n",
       "</div>"
      ],
      "text/plain": [
       "              predict vegan  predict keto\n",
       "actual vegan            182             5\n",
       "actual keto              10           164"
      ]
     },
     "execution_count": 42,
     "metadata": {},
     "output_type": "execute_result"
    }
   ],
   "source": [
    "cm_df = pd.DataFrame(cm, columns=['predict vegan', 'predict keto'], index=['actual vegan', 'actual keto'])\n",
    "cm_df"
   ]
  },
  {
   "cell_type": "code",
   "execution_count": 44,
   "metadata": {},
   "outputs": [
    {
     "name": "stdout",
     "output_type": "stream",
     "text": [
      "True Negatives: 182\n",
      "False Positives (Type 1 error): 5\n",
      "False Negatives (Type 2 error): 10\n",
      "True Positives: 164\n"
     ]
    }
   ],
   "source": [
    "tn, fp, fn, tp = confusion_matrix(y_test, pred).ravel()\n",
    "print(\"True Negatives: %s\" % tn)\n",
    "print(\"False Positives (Type 1 error): %s\" % fp)\n",
    "print(\"False Negatives (Type 2 error): %s\" % fn)\n",
    "print(\"True Positives: %s\" % tp)"
   ]
  },
  {
   "cell_type": "code",
   "execution_count": 45,
   "metadata": {},
   "outputs": [
    {
     "name": "stdout",
     "output_type": "stream",
     "text": [
      "Accuracy: 0.958\n",
      "Misclassification Rate: 0.042\n",
      "Sensitivity (Recall): 0.943\n",
      "Precision: 0.97\n",
      "Specificity: 0.973\n"
     ]
    }
   ],
   "source": [
    "print(f'Accuracy: {round((tp+tn)/(tp+tn+fp+fn),3)}')\n",
    "print(f'Misclassification Rate: {round(1-(tp+tn)/(tp+tn+fp+fn),3)}')\n",
    "print(f'Sensitivity (Recall): {round((tp)/(tp+fn),3)}')\n",
    "print(f'Precision: {round((tp)/(tp+fp),3)}')\n",
    "print(f'Specificity: {round((tn)/(tn+fp),3)}')"
   ]
  },
  {
   "cell_type": "code",
   "execution_count": 47,
   "metadata": {},
   "outputs": [
    {
     "name": "stdout",
     "output_type": "stream",
     "text": [
      "              precision    recall  f1-score   support\n",
      "\n",
      "       vegan       0.95      0.97      0.96       187\n",
      "        keto       0.97      0.94      0.96       174\n",
      "\n",
      "    accuracy                           0.96       361\n",
      "   macro avg       0.96      0.96      0.96       361\n",
      "weighted avg       0.96      0.96      0.96       361\n",
      "\n"
     ]
    }
   ],
   "source": [
    "target_names = ['vegan', 'keto']\n",
    "print(classification_report(y_test, pred, target_names=target_names))"
   ]
  },
  {
   "cell_type": "markdown",
   "metadata": {},
   "source": [
    "<font color=green>Construct ROC AUC: A study between Sensitivity and Specificity</font>"
   ]
  },
  {
   "cell_type": "code",
   "execution_count": 49,
   "metadata": {},
   "outputs": [],
   "source": [
    "# Build dataframe of predicted probabilities and actual classes\n",
    "pred_proba = [i[1] for i in logr_tvec_estimator.predict_proba(X_test_posts)]\n",
    "pred_df = pd.DataFrame({'true_values': y_test,\n",
    "                        'pred_probs':pred_proba})"
   ]
  },
  {
   "cell_type": "code",
   "execution_count": 51,
   "metadata": {},
   "outputs": [
    {
     "data": {
      "image/png": "[encoded data removed]",
      "text/plain": [
       "<Figure size 720x504 with 1 Axes>"
      ]
     },
     "metadata": {
      "needs_background": "light"
     },
     "output_type": "display_data"
    }
   ],
   "source": [
    "# Create figure.\n",
    "plt.figure(figsize = (10,7))\n",
    "\n",
    "# Create two histograms of observations.\n",
    "plt.hist(pred_df[pred_df['true_values'] == 0]['pred_probs'],\n",
    "         bins=25,\n",
    "         color='b',\n",
    "         alpha = 0.6,\n",
    "         label='Outcome = 0')\n",
    "plt.hist(pred_df[pred_df['true_values'] == 1]['pred_probs'],\n",
    "         bins=25,\n",
    "         color='orange',\n",
    "         alpha = 0.6,\n",
    "         label='Outcome = 1')\n",
    "\n",
    "# Add vertical line at P(Outcome = 1) = 0.5.\n",
    "plt.vlines(x=0.5,\n",
    "           ymin = 0,\n",
    "           ymax = 15,\n",
    "           color='r',\n",
    "           linestyle = '--')\n",
    "\n",
    "# Label axes.\n",
    "plt.title('Distribution of P(Outcome = 1)', fontsize=22)\n",
    "plt.ylabel('Frequency', fontsize=18)\n",
    "plt.xlabel('Predicted Probability that Outcome = 1', fontsize=18)\n",
    "\n",
    "# Create legend.\n",
    "plt.legend(fontsize=20);"
   ]
  },
  {
   "cell_type": "markdown",
   "metadata": {},
   "source": [
    "<font color=green>>95% predictions are accurate with little overlapping around probabilities 0.4-0.6</font>"
   ]
  },
  {
   "cell_type": "code",
   "execution_count": 52,
   "metadata": {},
   "outputs": [
    {
     "data": {
      "image/png": "[encoded data removed]",
      "text/plain": [
       "<Figure size 720x720 with 1 Axes>"
      ]
     },
     "metadata": {
      "needs_background": "light"
     },
     "output_type": "display_data"
    }
   ],
   "source": [
    "# Create figure.\n",
    "plt.figure(figsize = (10,10))\n",
    "\n",
    "# Create threshold values.\n",
    "thresholds = np.linspace(0, 1, 200)\n",
    "\n",
    "# Define function to calculate sensitivity. (True positive rate.)\n",
    "def TPR(df, true_col, pred_prob_col, threshold):\n",
    "    true_positive = df[(df[true_col] == 1) & (df[pred_prob_col] >= threshold)].shape[0]\n",
    "    false_negative = df[(df[true_col] == 1) & (df[pred_prob_col] < threshold)].shape[0]\n",
    "    return true_positive / (true_positive + false_negative)\n",
    "    \n",
    "\n",
    "# Define function to calculate 1 - specificity. (False positive rate.)\n",
    "def FPR(df, true_col, pred_prob_col, threshold):\n",
    "    true_negative = df[(df[true_col] == 0) & (df[pred_prob_col] <= threshold)].shape[0]\n",
    "    false_positive = df[(df[true_col] == 0) & (df[pred_prob_col] > threshold)].shape[0]\n",
    "    return 1 - (true_negative / (true_negative + false_positive))\n",
    "    \n",
    "# Calculate sensitivity & 1-specificity for each threshold between 0 and 1.\n",
    "tpr_values = [TPR(pred_df, 'true_values', 'pred_probs', prob) for prob in thresholds]\n",
    "fpr_values = [FPR(pred_df, 'true_values', 'pred_probs', prob) for prob in thresholds]\n",
    "\n",
    "# Plot ROC curve.\n",
    "plt.plot(fpr_values, # False Positive Rate on X-axis\n",
    "         tpr_values, # True Positive Rate on Y-axis\n",
    "         label='ROC Curve')\n",
    "\n",
    "# Plot baseline. (Perfect overlap between the two populations.)\n",
    "plt.plot(np.linspace(0, 1, 200),\n",
    "         np.linspace(0, 1, 200),\n",
    "         label='baseline',\n",
    "         linestyle='--')\n",
    "\n",
    "# Label axes.\n",
    "plt.title('Receiver Operating Characteristic Curve', fontsize=22)\n",
    "plt.ylabel('Sensitivity', fontsize=18)\n",
    "plt.xlabel('1 - Specificity', fontsize=18)\n",
    "\n",
    "# Create legend.\n",
    "plt.legend(fontsize=16);"
   ]
  },
  {
   "cell_type": "code",
   "execution_count": 53,
   "metadata": {},
   "outputs": [
    {
     "name": "stdout",
     "output_type": "stream",
     "text": [
      "roc_auc score: 0.9965\n"
     ]
    }
   ],
   "source": [
    "print(f\"roc_auc score: {round(roc_auc_score(pred_df['true_values'], pred_df['pred_probs']),4)}\")"
   ]
  },
  {
   "cell_type": "markdown",
   "metadata": {},
   "source": [
    "#### <font color=green>Metrics Summary</font>\n",
    "- Model can classify correctly >95% accuracy rate\n",
    "- Model is specific and precise to both vegan & keto classes > 95% rate\n",
    "- Combined Type 1 & 2 error rate is < 5%\n",
    "    - Type 1 error: True vegan post wrongly classified as keto.\n",
    "    - Type 2 error: True keto post wrongly classified as vegan\n",
    "    - People who adopt vegan diets usually do it due to ethical reasons.\n",
    "    - People who adopt lifestyle keto diets usually did it for body image reasons.\n",
    "    - However it is important to note that ketogenic diets were originally developed to treat hard to control epilepsy in children.\n",
    "    - Therefore these are equally serious considerations when considering how much Type 1 or 2 error rates will be acceptable\n",
    "- Overlap between 0 and 1 class is < +/- 10% depending on sample\n",
    "    - ROC-AUC score (specificity & senstivity) is almost close to perfection of 1 indicating that model is both highly Specific and Sensitive\n",
    "- F1 score (precision & sensitivity) >0.95"
   ]
  },
  {
   "cell_type": "markdown",
   "metadata": {},
   "source": [
    "#### <font color=green>Feature Importance. One major benefit of the Logistic Regression model is the generation of coeficients with respect to each predictors</font>"
   ]
  },
  {
   "cell_type": "code",
   "execution_count": 54,
   "metadata": {},
   "outputs": [],
   "source": [
    "wd_features = logr_tvec_estimator.best_estimator_.named_steps['transformer'].get_feature_names()"
   ]
  },
  {
   "cell_type": "code",
   "execution_count": 55,
   "metadata": {},
   "outputs": [],
   "source": [
    "wd_coef = logr_tvec_estimator.best_estimator_.named_steps['estimator'].coef_"
   ]
  },
  {
   "cell_type": "code",
   "execution_count": 56,
   "metadata": {},
   "outputs": [
    {
     "name": "stdout",
     "output_type": "stream",
     "text": [
      "Word Features: 4946\n",
      "Word Coef: 4946\n"
     ]
    }
   ],
   "source": [
    "print(f\"Word Features: {len(wd_features)}\")\n",
    "print(f\"Word Coef: {len(wd_coef[0])}\")"
   ]
  },
  {
   "cell_type": "code",
   "execution_count": 57,
   "metadata": {},
   "outputs": [],
   "source": [
    "wd_feat_df = pd.DataFrame(wd_features)\n",
    "wd_feat_df.rename(columns={0 : \"word\"}, inplace=True)\n",
    "\n",
    "wd_coef = pd.DataFrame(wd_coef[0])\n",
    "wd_coef.rename(columns={0 : \"coef\"}, inplace=True)"
   ]
  },
  {
   "cell_type": "code",
   "execution_count": 58,
   "metadata": {},
   "outputs": [
    {
     "data": {
      "text/html": [
       "<div>\n",
       "<style scoped>\n",
       "    .dataframe tbody tr th:only-of-type {\n",
       "        vertical-align: middle;\n",
       "    }\n",
       "\n",
       "    .dataframe tbody tr th {\n",
       "        vertical-align: top;\n",
       "    }\n",
       "\n",
       "    .dataframe thead th {\n",
       "        text-align: right;\n",
       "    }\n",
       "</style>\n",
       "<table border=\"1\" class=\"dataframe\">\n",
       "  <thead>\n",
       "    <tr style=\"text-align: right;\">\n",
       "      <th></th>\n",
       "      <th>word</th>\n",
       "    </tr>\n",
       "  </thead>\n",
       "  <tbody>\n",
       "    <tr>\n",
       "      <th>0</th>\n",
       "      <td>00</td>\n",
       "    </tr>\n",
       "    <tr>\n",
       "      <th>1</th>\n",
       "      <td>000</td>\n",
       "    </tr>\n",
       "    <tr>\n",
       "      <th>2</th>\n",
       "      <td>06</td>\n",
       "    </tr>\n",
       "    <tr>\n",
       "      <th>3</th>\n",
       "      <td>06 15</td>\n",
       "    </tr>\n",
       "    <tr>\n",
       "      <th>4</th>\n",
       "      <td>0g</td>\n",
       "    </tr>\n",
       "  </tbody>\n",
       "</table>\n",
       "</div>"
      ],
      "text/plain": [
       "    word\n",
       "0     00\n",
       "1    000\n",
       "2     06\n",
       "3  06 15\n",
       "4     0g"
      ]
     },
     "execution_count": 58,
     "metadata": {},
     "output_type": "execute_result"
    }
   ],
   "source": [
    "wd_feat_df.head()"
   ]
  },
  {
   "cell_type": "code",
   "execution_count": 59,
   "metadata": {},
   "outputs": [
    {
     "data": {
      "text/html": [
       "<div>\n",
       "<style scoped>\n",
       "    .dataframe tbody tr th:only-of-type {\n",
       "        vertical-align: middle;\n",
       "    }\n",
       "\n",
       "    .dataframe tbody tr th {\n",
       "        vertical-align: top;\n",
       "    }\n",
       "\n",
       "    .dataframe thead th {\n",
       "        text-align: right;\n",
       "    }\n",
       "</style>\n",
       "<table border=\"1\" class=\"dataframe\">\n",
       "  <thead>\n",
       "    <tr style=\"text-align: right;\">\n",
       "      <th></th>\n",
       "      <th>coef</th>\n",
       "    </tr>\n",
       "  </thead>\n",
       "  <tbody>\n",
       "    <tr>\n",
       "      <th>0</th>\n",
       "      <td>0.070134</td>\n",
       "    </tr>\n",
       "    <tr>\n",
       "      <th>1</th>\n",
       "      <td>-0.087845</td>\n",
       "    </tr>\n",
       "    <tr>\n",
       "      <th>2</th>\n",
       "      <td>0.090739</td>\n",
       "    </tr>\n",
       "    <tr>\n",
       "      <th>3</th>\n",
       "      <td>0.080151</td>\n",
       "    </tr>\n",
       "    <tr>\n",
       "      <th>4</th>\n",
       "      <td>0.160572</td>\n",
       "    </tr>\n",
       "  </tbody>\n",
       "</table>\n",
       "</div>"
      ],
      "text/plain": [
       "       coef\n",
       "0  0.070134\n",
       "1 -0.087845\n",
       "2  0.090739\n",
       "3  0.080151\n",
       "4  0.160572"
      ]
     },
     "execution_count": 59,
     "metadata": {},
     "output_type": "execute_result"
    }
   ],
   "source": [
    "wd_coef.head()"
   ]
  },
  {
   "cell_type": "code",
   "execution_count": 60,
   "metadata": {},
   "outputs": [
    {
     "data": {
      "text/html": [
       "<div>\n",
       "<style scoped>\n",
       "    .dataframe tbody tr th:only-of-type {\n",
       "        vertical-align: middle;\n",
       "    }\n",
       "\n",
       "    .dataframe tbody tr th {\n",
       "        vertical-align: top;\n",
       "    }\n",
       "\n",
       "    .dataframe thead th {\n",
       "        text-align: right;\n",
       "    }\n",
       "</style>\n",
       "<table border=\"1\" class=\"dataframe\">\n",
       "  <thead>\n",
       "    <tr style=\"text-align: right;\">\n",
       "      <th></th>\n",
       "      <th>word</th>\n",
       "      <th>coef</th>\n",
       "    </tr>\n",
       "  </thead>\n",
       "  <tbody>\n",
       "    <tr>\n",
       "      <th>0</th>\n",
       "      <td>00</td>\n",
       "      <td>0.070134</td>\n",
       "    </tr>\n",
       "    <tr>\n",
       "      <th>1</th>\n",
       "      <td>000</td>\n",
       "      <td>-0.087845</td>\n",
       "    </tr>\n",
       "    <tr>\n",
       "      <th>2</th>\n",
       "      <td>06</td>\n",
       "      <td>0.090739</td>\n",
       "    </tr>\n",
       "    <tr>\n",
       "      <th>3</th>\n",
       "      <td>06 15</td>\n",
       "      <td>0.080151</td>\n",
       "    </tr>\n",
       "    <tr>\n",
       "      <th>4</th>\n",
       "      <td>0g</td>\n",
       "      <td>0.160572</td>\n",
       "    </tr>\n",
       "  </tbody>\n",
       "</table>\n",
       "</div>"
      ],
      "text/plain": [
       "    word      coef\n",
       "0     00  0.070134\n",
       "1    000 -0.087845\n",
       "2     06  0.090739\n",
       "3  06 15  0.080151\n",
       "4     0g  0.160572"
      ]
     },
     "execution_count": 60,
     "metadata": {},
     "output_type": "execute_result"
    }
   ],
   "source": [
    "wd_df = pd.concat([wd_feat_df, wd_coef], axis=1)\n",
    "wd_df.head()"
   ]
  },
  {
   "cell_type": "code",
   "execution_count": 61,
   "metadata": {},
   "outputs": [],
   "source": [
    "keto_keywords = wd_df.sort_values(\"coef\", ascending=False).head(15)"
   ]
  },
  {
   "cell_type": "code",
   "execution_count": 62,
   "metadata": {},
   "outputs": [],
   "source": [
    "vegan_keywords = wd_df.sort_values(\"coef\", ascending=True).head(15)\n",
    "vegan_keywords = vegan_keywords.sort_values(\"coef\", ascending=False).head(15)"
   ]
  },
  {
   "cell_type": "code",
   "execution_count": 63,
   "metadata": {},
   "outputs": [
    {
     "data": {
      "image/png": "[encoded data removed]",
      "text/plain": [
       "<Figure size 864x576 with 1 Axes>"
      ]
     },
     "metadata": {
      "needs_background": "light"
     },
     "output_type": "display_data"
    }
   ],
   "source": [
    "plt.figure(figsize=(12,8))\n",
    "\n",
    "plt.barh(keto_keywords['word'], keto_keywords['coef'])\n",
    "plt.barh(vegan_keywords['word'], vegan_keywords['coef'])\n",
    "\n",
    "plt.xticks(fontsize=15);\n",
    "plt.yticks(fontsize=15);\n",
    "plt.xlabel(\"coeficients\", fontsize=20)\n",
    "plt.ylabel(\"keywords\", fontsize=20)\n",
    "plt.title(\"Keywords important to keto and vegan posts\", fontsize=25)\n",
    "plt.legend([\"keto\", \"vegan\"], fontsize=20);"
   ]
  },
  {
   "cell_type": "markdown",
   "metadata": {},
   "source": [
    "#### <font color=green>Coeficient Interpretation (Feature or keywords importance)</font>\n",
    "- The more positive coeficient means that keyword is likely keto class related (class 1)\n",
    "    - As keto word count increases by 1, the post is $e^{8}$ approx 3000 times as likely to be from the keto subreddit.\n",
    "- The more negative coeficient mean that keyword is likely to be vegan related (class 0)\n",
    "    - As vegan word count increases by 1, the post is $e^{-7}$ approx 0.0009 times likely to be from the keto subreddit."
   ]
  },
  {
   "cell_type": "code",
   "execution_count": null,
   "metadata": {},
   "outputs": [],
   "source": []
  }
 ],
 "metadata": {
  "kernelspec": {
   "display_name": "Python 3",
   "language": "python",
   "name": "python3"
  },
  "language_info": {
   "codemirror_mode": {
    "name": "ipython",
    "version": 3
   },
   "file_extension": ".py",
   "mimetype": "text/x-python",
   "name": "python",
   "nbconvert_exporter": "python",
   "pygments_lexer": "ipython3",
   "version": "3.7.6"
  }
 },
 "nbformat": 4,
 "nbformat_minor": 4
}
